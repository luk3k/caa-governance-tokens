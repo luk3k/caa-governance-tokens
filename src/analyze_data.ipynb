{
 "cells": [
  {
   "cell_type": "code",
   "source": [
    "import random\n",
    "from argparse import ArgumentParser\n",
    "from decimal import Decimal\n",
    "from matplotlib import pyplot as plt\n",
    "from matplotlib import colors as mcolors\n",
    "import pandas as pd\n",
    "import numpy as np\n",
    "from preprocess_data import clean_data, create_balance_df, parse_and_assign_cex\n",
    "from analyze_data import *\n",
    "import os.path"
   ],
   "metadata": {
    "collapsed": false,
    "ExecuteTime": {
     "end_time": "2024-06-15T15:30:12.693115Z",
     "start_time": "2024-06-15T15:30:12.690141Z"
    }
   },
   "id": "9eb6b187310f4a4c",
   "outputs": [],
   "execution_count": 13
  },
  {
   "cell_type": "markdown",
   "source": [
    "Load data files"
   ],
   "metadata": {
    "collapsed": false
   },
   "id": "5cdf6c9582d5ad03"
  },
  {
   "cell_type": "code",
   "source": [
    "file_balances = \"../data/uniswap.csv\"\n",
    "file_original = \"../data/outputUniswap_fromBlock_10861674_toBlock_19955500.csv\"\n",
    "timelock_address = \"0x1a9c8182c09f50c8318d769245bea52c32be35bc\""
   ],
   "metadata": {
    "collapsed": false,
    "ExecuteTime": {
     "end_time": "2024-06-15T15:30:12.780758Z",
     "start_time": "2024-06-15T15:30:12.778646Z"
    }
   },
   "id": "f56eddd7bc7a1c66",
   "outputs": [],
   "execution_count": 14
  },
  {
   "cell_type": "markdown",
   "source": [
    "Initialize data frames"
   ],
   "metadata": {
    "collapsed": false
   },
   "id": "d3fd9407001e4aff"
  },
  {
   "cell_type": "code",
   "source": [
    "df_uniswap = pd.read_csv(file_balances)\n",
    "df_uniswap[\"balance\"] = df_uniswap[\"balance\"].apply(Decimal)\n",
    "df_uniswap[\"amount_in\"] = df_uniswap[\"amount_in\"].apply(Decimal)\n",
    "df_uniswap[\"amount_out\"] = df_uniswap[\"amount_out\"].apply(Decimal)"
   ],
   "metadata": {
    "collapsed": false,
    "ExecuteTime": {
     "end_time": "2024-06-15T15:30:15.361528Z",
     "start_time": "2024-06-15T15:30:12.782577Z"
    }
   },
   "id": "a3d8ff84fd663327",
   "outputs": [
    {
     "name": "stderr",
     "output_type": "stream",
     "text": [
      "/tmp/ipykernel_12824/906224226.py:1: DtypeWarning: Columns (2,5) have mixed types. Specify dtype option on import or set low_memory=False.\n",
      "  df_uniswap = pd.read_csv(file_balances)\n"
     ]
    }
   ],
   "execution_count": 15
  },
  {
   "cell_type": "code",
   "source": [],
   "metadata": {
    "collapsed": false,
    "ExecuteTime": {
     "end_time": "2024-06-15T15:30:15.363916Z",
     "start_time": "2024-06-15T15:30:15.362472Z"
    }
   },
   "id": "72d8c541873cae51",
   "outputs": [],
   "execution_count": 15
  },
  {
   "cell_type": "markdown",
   "source": [
    "Preprocess data"
   ],
   "metadata": {
    "collapsed": false
   },
   "id": "22777ef138ac8656"
  },
  {
   "cell_type": "code",
   "source": [
    "# remove negative balances and sort descending\n",
    "non_negative_df = clean_data(df_uniswap)\n",
    "\n",
    "# remove zero balances\n",
    "only_positive_df = remove_zero_balances(non_negative_df)\n",
    "only_positive_df_removed_timelockAddress = remove_address(only_positive_df, timelock_address)\n",
    "\n",
    "print(\"Number of addresses that hold tokens: \\n\", only_positive_df_removed_timelockAddress.shape[0])"
   ],
   "metadata": {
    "collapsed": false,
    "ExecuteTime": {
     "end_time": "2024-06-15T15:30:17.549924Z",
     "start_time": "2024-06-15T15:30:15.364464Z"
    }
   },
   "id": "491af6b4794521e3",
   "outputs": [
    {
     "name": "stdout",
     "output_type": "stream",
     "text": [
      "Number of addresses that hold tokens: \n",
      " 382522\n"
     ]
    }
   ],
   "execution_count": 16
  },
  {
   "cell_type": "markdown",
   "source": [
    "## Metrics"
   ],
   "metadata": {
    "collapsed": false
   },
   "id": "e0da2450e74d8b99"
  },
  {
   "cell_type": "code",
   "source": [
    "only_positive_df_removed_timelockAddress.head(10)"
   ],
   "metadata": {
    "collapsed": false,
    "ExecuteTime": {
     "end_time": "2024-06-15T15:30:17.556270Z",
     "start_time": "2024-06-15T15:30:17.550988Z"
    }
   },
   "id": "4593b7e375a07b4c",
   "outputs": [
    {
     "data": {
      "text/plain": [
       "         Unnamed: 0                                     address  \\\n",
       "370039       370039  0x47173b170c64d16393a52e6c480b3ad8c302ba1e   \n",
       "318385       318385  0x3d30b1ab88d487b0f3061f40de76845bec3f1e94   \n",
       "649014       649014  0x7d2d43e63666f45b40316b44212325625dbaeb40   \n",
       "48214         48214  0x090d4613473dee047c3f2706764f49e0821d256e   \n",
       "78010         78010  0x0ec9e8aa56e0425b60dee347c8efbad959579d0f   \n",
       "1290796     1290796  0xf977814e90da44bfa03b6295a0616a897441acec   \n",
       "564338       564338  0x6cc5f688a315f3dc28a7781717a9a798a59fda7b   \n",
       "469356       469356  0x5a52e96bacdabb82fd05763e25335261b270efcb   \n",
       "702543       702543  0x878f0822a9e77c1dd7883e543747147be8d63c3b   \n",
       "853382       853382  0xa4c9492d5f1578911756a4f8463b45482deae37a   \n",
       "\n",
       "                           amount_in                   amount_out  \\\n",
       "370039    39761682693918000000000000   16714202180719478000000000   \n",
       "318385    43000000000000000000000000   26223928240740740740740738   \n",
       "649014    15759557158154400000000000    2504870339500000000000000   \n",
       "48214    150002600459653843000000000  136965580688674000000000000   \n",
       "78010     30000000076569300000000000   17388668720908390000000000   \n",
       "1290796   81716912931976964981621181   69208316922976964981621181   \n",
       "564338   100354081826020357678147603   88846188151855080000000000   \n",
       "469356    26666973000000000000000000   15866973000000000000000000   \n",
       "702543    24700000000000000000000000   13936624086003920000000000   \n",
       "853382    21880414703401288796733440   12570489829000000000000000   \n",
       "\n",
       "                            balance      cex  \n",
       "370039   23047480513198522000000000      NaN  \n",
       "318385   16776071759259259259259262      NaN  \n",
       "649014   13254686818654400000000000      NaN  \n",
       "48214    13037019770979843000000000      NaN  \n",
       "78010    12611331355660910000000000      NaN  \n",
       "1290796  12508596009000000000000000  binance  \n",
       "564338   11507893674165277678147603     okex  \n",
       "469356   10800000000000000000000000  binance  \n",
       "702543   10763375913996080000000000      NaN  \n",
       "853382    9309924874401289000000000      NaN  "
      ],
      "text/html": [
       "<div>\n",
       "<style scoped>\n",
       "    .dataframe tbody tr th:only-of-type {\n",
       "        vertical-align: middle;\n",
       "    }\n",
       "\n",
       "    .dataframe tbody tr th {\n",
       "        vertical-align: top;\n",
       "    }\n",
       "\n",
       "    .dataframe thead th {\n",
       "        text-align: right;\n",
       "    }\n",
       "</style>\n",
       "<table border=\"1\" class=\"dataframe\">\n",
       "  <thead>\n",
       "    <tr style=\"text-align: right;\">\n",
       "      <th></th>\n",
       "      <th>Unnamed: 0</th>\n",
       "      <th>address</th>\n",
       "      <th>amount_in</th>\n",
       "      <th>amount_out</th>\n",
       "      <th>balance</th>\n",
       "      <th>cex</th>\n",
       "    </tr>\n",
       "  </thead>\n",
       "  <tbody>\n",
       "    <tr>\n",
       "      <th>370039</th>\n",
       "      <td>370039</td>\n",
       "      <td>0x47173b170c64d16393a52e6c480b3ad8c302ba1e</td>\n",
       "      <td>39761682693918000000000000</td>\n",
       "      <td>16714202180719478000000000</td>\n",
       "      <td>23047480513198522000000000</td>\n",
       "      <td>NaN</td>\n",
       "    </tr>\n",
       "    <tr>\n",
       "      <th>318385</th>\n",
       "      <td>318385</td>\n",
       "      <td>0x3d30b1ab88d487b0f3061f40de76845bec3f1e94</td>\n",
       "      <td>43000000000000000000000000</td>\n",
       "      <td>26223928240740740740740738</td>\n",
       "      <td>16776071759259259259259262</td>\n",
       "      <td>NaN</td>\n",
       "    </tr>\n",
       "    <tr>\n",
       "      <th>649014</th>\n",
       "      <td>649014</td>\n",
       "      <td>0x7d2d43e63666f45b40316b44212325625dbaeb40</td>\n",
       "      <td>15759557158154400000000000</td>\n",
       "      <td>2504870339500000000000000</td>\n",
       "      <td>13254686818654400000000000</td>\n",
       "      <td>NaN</td>\n",
       "    </tr>\n",
       "    <tr>\n",
       "      <th>48214</th>\n",
       "      <td>48214</td>\n",
       "      <td>0x090d4613473dee047c3f2706764f49e0821d256e</td>\n",
       "      <td>150002600459653843000000000</td>\n",
       "      <td>136965580688674000000000000</td>\n",
       "      <td>13037019770979843000000000</td>\n",
       "      <td>NaN</td>\n",
       "    </tr>\n",
       "    <tr>\n",
       "      <th>78010</th>\n",
       "      <td>78010</td>\n",
       "      <td>0x0ec9e8aa56e0425b60dee347c8efbad959579d0f</td>\n",
       "      <td>30000000076569300000000000</td>\n",
       "      <td>17388668720908390000000000</td>\n",
       "      <td>12611331355660910000000000</td>\n",
       "      <td>NaN</td>\n",
       "    </tr>\n",
       "    <tr>\n",
       "      <th>1290796</th>\n",
       "      <td>1290796</td>\n",
       "      <td>0xf977814e90da44bfa03b6295a0616a897441acec</td>\n",
       "      <td>81716912931976964981621181</td>\n",
       "      <td>69208316922976964981621181</td>\n",
       "      <td>12508596009000000000000000</td>\n",
       "      <td>binance</td>\n",
       "    </tr>\n",
       "    <tr>\n",
       "      <th>564338</th>\n",
       "      <td>564338</td>\n",
       "      <td>0x6cc5f688a315f3dc28a7781717a9a798a59fda7b</td>\n",
       "      <td>100354081826020357678147603</td>\n",
       "      <td>88846188151855080000000000</td>\n",
       "      <td>11507893674165277678147603</td>\n",
       "      <td>okex</td>\n",
       "    </tr>\n",
       "    <tr>\n",
       "      <th>469356</th>\n",
       "      <td>469356</td>\n",
       "      <td>0x5a52e96bacdabb82fd05763e25335261b270efcb</td>\n",
       "      <td>26666973000000000000000000</td>\n",
       "      <td>15866973000000000000000000</td>\n",
       "      <td>10800000000000000000000000</td>\n",
       "      <td>binance</td>\n",
       "    </tr>\n",
       "    <tr>\n",
       "      <th>702543</th>\n",
       "      <td>702543</td>\n",
       "      <td>0x878f0822a9e77c1dd7883e543747147be8d63c3b</td>\n",
       "      <td>24700000000000000000000000</td>\n",
       "      <td>13936624086003920000000000</td>\n",
       "      <td>10763375913996080000000000</td>\n",
       "      <td>NaN</td>\n",
       "    </tr>\n",
       "    <tr>\n",
       "      <th>853382</th>\n",
       "      <td>853382</td>\n",
       "      <td>0xa4c9492d5f1578911756a4f8463b45482deae37a</td>\n",
       "      <td>21880414703401288796733440</td>\n",
       "      <td>12570489829000000000000000</td>\n",
       "      <td>9309924874401289000000000</td>\n",
       "      <td>NaN</td>\n",
       "    </tr>\n",
       "  </tbody>\n",
       "</table>\n",
       "</div>"
      ]
     },
     "execution_count": 17,
     "metadata": {},
     "output_type": "execute_result"
    }
   ],
   "execution_count": 17
  },
  {
   "cell_type": "code",
   "source": [
    "# some statistics\n",
    "\n",
    "print_top_percentages(only_positive_df_removed_timelockAddress)\n",
    "print_top_traders(only_positive_df_removed_timelockAddress)\n",
    "print_tokens_per_block(file_original)\n",
    "print_cex_percentages(only_positive_df_removed_timelockAddress)\n"
   ],
   "metadata": {
    "collapsed": false,
    "ExecuteTime": {
     "end_time": "2024-06-15T15:30:21.516005Z",
     "start_time": "2024-06-15T15:30:17.556797Z"
    }
   },
   "id": "d9a437b440db712a",
   "outputs": [
    {
     "name": "stdout",
     "output_type": "stream",
     "text": [
      "Top 10 percentage: 21.70%\n",
      "Top 100 percentage: 73.94%\n",
      "Top 1000 percentage: 95.61%\n",
      "Top senders:                                             address  \\\n",
      "340204   0x41653c7d61609d856f29355e404f310ec4142cfb   \n",
      "153078   0x1d42064fc4beb5f8aaf85f4617ae8b3b5b8bd801   \n",
      "1095711  0xd3d2e2692501a5c9ca623199d38826e513033a17   \n",
      "745201   0x8fdb3816fe10e16aaa9b12b3c4688c873efe2eca   \n",
      "447613   0x56178a0d5f301baf6cf3e1cd53d9863437345bf9   \n",
      "212842   0x28c6c06298d514db089934071355e5743bf21d60   \n",
      "879423   0xa9d1e08c7793af67e9d92fe308d5697fb81d3e43   \n",
      "279335   0x35a18000230da775cac24873d00ff85bccded550   \n",
      "48214    0x090d4613473dee047c3f2706764f49e0821d256e   \n",
      "948567   0xb739d0895772dbb71a89a3754a160269068f0d45   \n",
      "\n",
      "                             balance          cex  \n",
      "340204              2758162612694493          NaN  \n",
      "153078   2389244318714231259971746.0          NaN  \n",
      "1095711   296150534151073172965800.0          NaN  \n",
      "745201                  224000000000          NaN  \n",
      "447613                          2287          NaN  \n",
      "212842     1156776254099902652161204      binance  \n",
      "879423      165454997447195443369833  coinbasepro  \n",
      "279335   1710109454349553903820275.0          NaN  \n",
      "48214     13037019770979843000000000          NaN  \n",
      "948567           3908801744899348008          NaN  \n",
      "Top receivers:                                             address  \\\n",
      "340204   0x41653c7d61609d856f29355e404f310ec4142cfb   \n",
      "153078   0x1d42064fc4beb5f8aaf85f4617ae8b3b5b8bd801   \n",
      "1095711  0xd3d2e2692501a5c9ca623199d38826e513033a17   \n",
      "745201   0x8fdb3816fe10e16aaa9b12b3c4688c873efe2eca   \n",
      "447613   0x56178a0d5f301baf6cf3e1cd53d9863437345bf9   \n",
      "212842   0x28c6c06298d514db089934071355e5743bf21d60   \n",
      "879423   0xa9d1e08c7793af67e9d92fe308d5697fb81d3e43   \n",
      "279335   0x35a18000230da775cac24873d00ff85bccded550   \n",
      "48214    0x090d4613473dee047c3f2706764f49e0821d256e   \n",
      "948567   0xb739d0895772dbb71a89a3754a160269068f0d45   \n",
      "\n",
      "                             balance          cex  \n",
      "340204              2758162612694493          NaN  \n",
      "153078   2389244318714231259971746.0          NaN  \n",
      "1095711   296150534151073172965800.0          NaN  \n",
      "745201                  224000000000          NaN  \n",
      "447613                          2287          NaN  \n",
      "212842     1156776254099902652161204      binance  \n",
      "879423      165454997447195443369833  coinbasepro  \n",
      "279335   1710109454349553903820275.0          NaN  \n",
      "48214     13037019770979843000000000          NaN  \n",
      "948567           3908801744899348008          NaN  \n",
      "\n",
      "Token transfers per block: 0.51\n",
      "\n",
      "All cex together hold 56071304086785380565563182 out of 615706366469259259249668882.0 (9.11 %) tokens\n",
      "Other addresses hold 559635062382473878684105700.0 out of 615706366469259259249668882.0 (90.89 %) tokens\n"
     ]
    }
   ],
   "execution_count": 18
  },
  {
   "cell_type": "code",
   "source": [],
   "metadata": {
    "collapsed": false,
    "ExecuteTime": {
     "end_time": "2024-06-15T15:30:21.518490Z",
     "start_time": "2024-06-15T15:30:21.516970Z"
    }
   },
   "id": "cdf4a2ad7b09d42e",
   "outputs": [],
   "execution_count": 18
  },
  {
   "cell_type": "code",
   "source": [],
   "metadata": {
    "collapsed": false,
    "ExecuteTime": {
     "end_time": "2024-06-15T15:30:21.520536Z",
     "start_time": "2024-06-15T15:30:21.519183Z"
    }
   },
   "id": "735cbb61bded7a3f",
   "outputs": [],
   "execution_count": 18
  },
  {
   "cell_type": "markdown",
   "source": [
    "### Gini index"
   ],
   "metadata": {
    "collapsed": false
   },
   "id": "4b274324fd6df8b4"
  },
  {
   "cell_type": "code",
   "source": [
    "gini_index = compute_gini_index(only_positive_df_removed_timelockAddress)\n",
    "print(\"gini index: \", gini_index)"
   ],
   "metadata": {
    "collapsed": false,
    "ExecuteTime": {
     "end_time": "2024-06-15T15:30:22.129275Z",
     "start_time": "2024-06-15T15:30:21.521244Z"
    }
   },
   "id": "abd3118b9e855c49",
   "outputs": [
    {
     "name": "stdout",
     "output_type": "stream",
     "text": [
      "gini index:  0.9952059161147626132523910141\n"
     ]
    }
   ],
   "execution_count": 19
  },
  {
   "cell_type": "markdown",
   "source": [
    "### Herfindahl hirschman index:"
   ],
   "metadata": {
    "collapsed": false
   },
   "id": "9d045bbab11e9867"
  },
  {
   "cell_type": "code",
   "source": [
    "hhi = compute_herfindahl_hirschman_index(only_positive_df_removed_timelockAddress)\n",
    "print(\"hhi: \", hhi)\n",
    "\n",
    "# limited to the top 50 token holder\n",
    "hhi = compute_herfindahl_hirschman_index(only_positive_df_removed_timelockAddress, top_n_player=50)\n",
    "print(\"hhi: \", hhi)"
   ],
   "metadata": {
    "collapsed": false,
    "ExecuteTime": {
     "end_time": "2024-06-15T15:30:22.469717Z",
     "start_time": "2024-06-15T15:30:22.130194Z"
    }
   },
   "id": "649e42f2cf57a81e",
   "outputs": [
    {
     "name": "stdout",
     "output_type": "stream",
     "text": [
      "hhi:  0.009764410451879473895116381213\n",
      "hhi:  0.009056389611931172638580423389\n"
     ]
    }
   ],
   "execution_count": 20
  },
  {
   "cell_type": "markdown",
   "source": [
    "## Charts"
   ],
   "metadata": {
    "collapsed": false
   },
   "id": "eba95075adb16b40"
  },
  {
   "cell_type": "markdown",
   "source": [
    "### Timeline\n",
    "Gini index in timeline:"
   ],
   "metadata": {
    "collapsed": false
   },
   "id": "63cd499a13a669d8"
  },
  {
   "cell_type": "code",
   "source": [
    "block_step_size = 100_000\n",
    "gini_timeline_file = \"../data/timeline_step_size_\" + str(block_step_size) + \".csv\"\n",
    "\n",
    "if os.path.isfile(gini_timeline_file):\n",
    "    # file already exists\n",
    "    timeline = pd.read_csv(gini_timeline_file)\n",
    "    \n",
    "else:\n",
    "    timeline = create_and_export_timeline(file_original, block_step_size, gini_timeline_file)\n",
    "\n",
    "timeline"
   ],
   "metadata": {
    "collapsed": false,
    "ExecuteTime": {
     "end_time": "2024-06-15T15:30:22.479504Z",
     "start_time": "2024-06-15T15:30:22.471457Z"
    }
   },
   "id": "14e913d6a575826c",
   "outputs": [
    {
     "data": {
      "text/plain": [
       "    Unnamed: 0  block_number  gini_index  tx_per_block\n",
       "0            0      10961674    0.989849      7.239988\n",
       "1            1      11061674    0.991963      1.655890\n",
       "2            2      11161674    0.993115      1.309740\n",
       "3            3      11261674    0.993525      1.263110\n",
       "4            4      11361674    0.994157      1.105370\n",
       "..         ...           ...         ...           ...\n",
       "85          85      19461674    0.995198      0.324090\n",
       "86          86      19561674    0.995217      0.211470\n",
       "87          87      19661674    0.995226      0.304600\n",
       "88          88      19761674    0.995180      0.222080\n",
       "89          89      19861674    0.995187      0.170590\n",
       "\n",
       "[90 rows x 4 columns]"
      ],
      "text/html": [
       "<div>\n",
       "<style scoped>\n",
       "    .dataframe tbody tr th:only-of-type {\n",
       "        vertical-align: middle;\n",
       "    }\n",
       "\n",
       "    .dataframe tbody tr th {\n",
       "        vertical-align: top;\n",
       "    }\n",
       "\n",
       "    .dataframe thead th {\n",
       "        text-align: right;\n",
       "    }\n",
       "</style>\n",
       "<table border=\"1\" class=\"dataframe\">\n",
       "  <thead>\n",
       "    <tr style=\"text-align: right;\">\n",
       "      <th></th>\n",
       "      <th>Unnamed: 0</th>\n",
       "      <th>block_number</th>\n",
       "      <th>gini_index</th>\n",
       "      <th>tx_per_block</th>\n",
       "    </tr>\n",
       "  </thead>\n",
       "  <tbody>\n",
       "    <tr>\n",
       "      <th>0</th>\n",
       "      <td>0</td>\n",
       "      <td>10961674</td>\n",
       "      <td>0.989849</td>\n",
       "      <td>7.239988</td>\n",
       "    </tr>\n",
       "    <tr>\n",
       "      <th>1</th>\n",
       "      <td>1</td>\n",
       "      <td>11061674</td>\n",
       "      <td>0.991963</td>\n",
       "      <td>1.655890</td>\n",
       "    </tr>\n",
       "    <tr>\n",
       "      <th>2</th>\n",
       "      <td>2</td>\n",
       "      <td>11161674</td>\n",
       "      <td>0.993115</td>\n",
       "      <td>1.309740</td>\n",
       "    </tr>\n",
       "    <tr>\n",
       "      <th>3</th>\n",
       "      <td>3</td>\n",
       "      <td>11261674</td>\n",
       "      <td>0.993525</td>\n",
       "      <td>1.263110</td>\n",
       "    </tr>\n",
       "    <tr>\n",
       "      <th>4</th>\n",
       "      <td>4</td>\n",
       "      <td>11361674</td>\n",
       "      <td>0.994157</td>\n",
       "      <td>1.105370</td>\n",
       "    </tr>\n",
       "    <tr>\n",
       "      <th>...</th>\n",
       "      <td>...</td>\n",
       "      <td>...</td>\n",
       "      <td>...</td>\n",
       "      <td>...</td>\n",
       "    </tr>\n",
       "    <tr>\n",
       "      <th>85</th>\n",
       "      <td>85</td>\n",
       "      <td>19461674</td>\n",
       "      <td>0.995198</td>\n",
       "      <td>0.324090</td>\n",
       "    </tr>\n",
       "    <tr>\n",
       "      <th>86</th>\n",
       "      <td>86</td>\n",
       "      <td>19561674</td>\n",
       "      <td>0.995217</td>\n",
       "      <td>0.211470</td>\n",
       "    </tr>\n",
       "    <tr>\n",
       "      <th>87</th>\n",
       "      <td>87</td>\n",
       "      <td>19661674</td>\n",
       "      <td>0.995226</td>\n",
       "      <td>0.304600</td>\n",
       "    </tr>\n",
       "    <tr>\n",
       "      <th>88</th>\n",
       "      <td>88</td>\n",
       "      <td>19761674</td>\n",
       "      <td>0.995180</td>\n",
       "      <td>0.222080</td>\n",
       "    </tr>\n",
       "    <tr>\n",
       "      <th>89</th>\n",
       "      <td>89</td>\n",
       "      <td>19861674</td>\n",
       "      <td>0.995187</td>\n",
       "      <td>0.170590</td>\n",
       "    </tr>\n",
       "  </tbody>\n",
       "</table>\n",
       "<p>90 rows × 4 columns</p>\n",
       "</div>"
      ]
     },
     "execution_count": 21,
     "metadata": {},
     "output_type": "execute_result"
    }
   ],
   "execution_count": 21
  },
  {
   "cell_type": "code",
   "source": [
    "timeline['gini_index'] = timeline[\"gini_index\"].apply(float)\n",
    "create_timeline_plot(timeline, timeline['gini_index'])"
   ],
   "metadata": {
    "collapsed": false,
    "ExecuteTime": {
     "end_time": "2024-06-15T15:30:22.519998Z",
     "start_time": "2024-06-15T15:30:22.480265Z"
    }
   },
   "id": "d824f3c85c5520dc",
   "outputs": [
    {
     "ename": "KeyError",
     "evalue": "\"None of [Float64Index([0.9898490520130884, 0.9919625525399222,  0.993114934677092,\\n              0.9935248633443672, 0.9941574844891292, 0.9943631761647926,\\n              0.9945930472220108, 0.9948672979703962,  0.995050706040774,\\n              0.9951689591791576, 0.9953476186125936, 0.9954924790027666,\\n              0.9956020606696798, 0.9956445894356384, 0.9954499309915268,\\n               0.995573479492614,   0.99556327612047, 0.9955219539017732,\\n              0.9954461941067424, 0.9954728567035837, 0.9954319545698525,\\n              0.9954368704645064, 0.9953380489287796, 0.9953934689479323,\\n              0.9952463101034816, 0.9952622393628276, 0.9953420768102026,\\n              0.9953989538699316, 0.9953991377360056, 0.9954113917617268,\\n               0.995465274720416, 0.9954858196864536, 0.9954907815603808,\\n              0.9955000739796832, 0.9951791716580404, 0.9952346414434796,\\n              0.9952515787274884, 0.9952656609187118,  0.995262626617268,\\n               0.995106098047434, 0.9950968751894148,  0.994943751738398,\\n              0.9948459017295213, 0.9947333060858464, 0.9947372163800547,\\n              0.9947476762924649, 0.9946237410751216, 0.9946509510238932,\\n              0.9946136777393416, 0.9946157284082576,  0.994322666416388,\\n              0.9940741614362932, 0.9941452222267664, 0.9938761267466988,\\n              0.9938648605043224, 0.9938545693490776, 0.9937883000868496,\\n              0.9937908782218232, 0.9937957436538932, 0.9937720825760984,\\n               0.993742378091582, 0.9946303017459636, 0.9948083531604824,\\n              0.9947860497065306, 0.9947805837621404, 0.9955424762763716,\\n              0.9954883850214196, 0.9955295751531442, 0.9952377173517822,\\n              0.9952433053499656, 0.9952357078581976,  0.995191982439396,\\n              0.9951792830492248, 0.9951839751573645, 0.9951905258615538,\\n              0.9951615904024522, 0.9951581913254416, 0.9951325445850204,\\n              0.9950713290577532,  0.995114295399994, 0.9950969151332538,\\n              0.9951013953090704,  0.995139392387526, 0.9951512878657536,\\n               0.995230490985982, 0.9951982239852672, 0.9952170739254668,\\n               0.995226286516626,  0.995180089689624, 0.9951866018750544],\\n             dtype='float64')] are in the [columns]\"",
     "output_type": "error",
     "traceback": [
      "\u001B[0;31m---------------------------------------------------------------------------\u001B[0m",
      "\u001B[0;31mKeyError\u001B[0m                                  Traceback (most recent call last)",
      "Cell \u001B[0;32mIn[22], line 2\u001B[0m\n\u001B[1;32m      1\u001B[0m timeline[\u001B[38;5;124m'\u001B[39m\u001B[38;5;124mgini_index\u001B[39m\u001B[38;5;124m'\u001B[39m] \u001B[38;5;241m=\u001B[39m timeline[\u001B[38;5;124m\"\u001B[39m\u001B[38;5;124mgini_index\u001B[39m\u001B[38;5;124m\"\u001B[39m]\u001B[38;5;241m.\u001B[39mapply(\u001B[38;5;28mfloat\u001B[39m)\n\u001B[0;32m----> 2\u001B[0m \u001B[43mcreate_timeline_plot\u001B[49m\u001B[43m(\u001B[49m\u001B[43mtimeline\u001B[49m\u001B[43m,\u001B[49m\u001B[43m \u001B[49m\u001B[43mtimeline\u001B[49m\u001B[43m[\u001B[49m\u001B[38;5;124;43m'\u001B[39;49m\u001B[38;5;124;43mgini_index\u001B[39;49m\u001B[38;5;124;43m'\u001B[39;49m\u001B[43m]\u001B[49m\u001B[43m)\u001B[49m\n",
      "File \u001B[0;32m~/projects/caa-governance-tokens/src/analyze_data.py:190\u001B[0m, in \u001B[0;36mcreate_timeline_plot\u001B[0;34m(data, y)\u001B[0m\n\u001B[1;32m    189\u001B[0m \u001B[38;5;28;01mdef\u001B[39;00m \u001B[38;5;21mcreate_timeline_plot\u001B[39m(data, y):\n\u001B[0;32m--> 190\u001B[0m     \u001B[43mdata\u001B[49m\u001B[38;5;241;43m.\u001B[39;49m\u001B[43mplot\u001B[49m\u001B[43m(\u001B[49m\u001B[43mx\u001B[49m\u001B[38;5;241;43m=\u001B[39;49m\u001B[38;5;124;43m'\u001B[39;49m\u001B[38;5;124;43mblock_number\u001B[39;49m\u001B[38;5;124;43m'\u001B[39;49m\u001B[43m,\u001B[49m\u001B[43m \u001B[49m\u001B[43my\u001B[49m\u001B[38;5;241;43m=\u001B[39;49m\u001B[43my\u001B[49m\u001B[43m,\u001B[49m\u001B[43m \u001B[49m\u001B[43mkind\u001B[49m\u001B[38;5;241;43m=\u001B[39;49m\u001B[38;5;124;43m'\u001B[39;49m\u001B[38;5;124;43mline\u001B[39;49m\u001B[38;5;124;43m'\u001B[39;49m\u001B[43m)\u001B[49m\n",
      "File \u001B[0;32m~/anaconda3/envs/caa_project_venv/lib/python3.9/site-packages/pandas/plotting/_core.py:986\u001B[0m, in \u001B[0;36mPlotAccessor.__call__\u001B[0;34m(self, *args, **kwargs)\u001B[0m\n\u001B[1;32m    983\u001B[0m             \u001B[38;5;28;01mpass\u001B[39;00m\n\u001B[1;32m    985\u001B[0m \u001B[38;5;66;03m# don't overwrite\u001B[39;00m\n\u001B[0;32m--> 986\u001B[0m data \u001B[38;5;241m=\u001B[39m \u001B[43mdata\u001B[49m\u001B[43m[\u001B[49m\u001B[43my\u001B[49m\u001B[43m]\u001B[49m\u001B[38;5;241m.\u001B[39mcopy()\n\u001B[1;32m    988\u001B[0m \u001B[38;5;28;01mif\u001B[39;00m \u001B[38;5;28misinstance\u001B[39m(data, ABCSeries):\n\u001B[1;32m    989\u001B[0m     label_name \u001B[38;5;241m=\u001B[39m label_kw \u001B[38;5;129;01mor\u001B[39;00m y\n",
      "File \u001B[0;32m~/anaconda3/envs/caa_project_venv/lib/python3.9/site-packages/pandas/core/frame.py:3813\u001B[0m, in \u001B[0;36mDataFrame.__getitem__\u001B[0;34m(self, key)\u001B[0m\n\u001B[1;32m   3811\u001B[0m     \u001B[38;5;28;01mif\u001B[39;00m is_iterator(key):\n\u001B[1;32m   3812\u001B[0m         key \u001B[38;5;241m=\u001B[39m \u001B[38;5;28mlist\u001B[39m(key)\n\u001B[0;32m-> 3813\u001B[0m     indexer \u001B[38;5;241m=\u001B[39m \u001B[38;5;28;43mself\u001B[39;49m\u001B[38;5;241;43m.\u001B[39;49m\u001B[43mcolumns\u001B[49m\u001B[38;5;241;43m.\u001B[39;49m\u001B[43m_get_indexer_strict\u001B[49m\u001B[43m(\u001B[49m\u001B[43mkey\u001B[49m\u001B[43m,\u001B[49m\u001B[43m \u001B[49m\u001B[38;5;124;43m\"\u001B[39;49m\u001B[38;5;124;43mcolumns\u001B[39;49m\u001B[38;5;124;43m\"\u001B[39;49m\u001B[43m)\u001B[49m[\u001B[38;5;241m1\u001B[39m]\n\u001B[1;32m   3815\u001B[0m \u001B[38;5;66;03m# take() does not accept boolean indexers\u001B[39;00m\n\u001B[1;32m   3816\u001B[0m \u001B[38;5;28;01mif\u001B[39;00m \u001B[38;5;28mgetattr\u001B[39m(indexer, \u001B[38;5;124m\"\u001B[39m\u001B[38;5;124mdtype\u001B[39m\u001B[38;5;124m\"\u001B[39m, \u001B[38;5;28;01mNone\u001B[39;00m) \u001B[38;5;241m==\u001B[39m \u001B[38;5;28mbool\u001B[39m:\n",
      "File \u001B[0;32m~/anaconda3/envs/caa_project_venv/lib/python3.9/site-packages/pandas/core/indexes/base.py:6070\u001B[0m, in \u001B[0;36mIndex._get_indexer_strict\u001B[0;34m(self, key, axis_name)\u001B[0m\n\u001B[1;32m   6067\u001B[0m \u001B[38;5;28;01melse\u001B[39;00m:\n\u001B[1;32m   6068\u001B[0m     keyarr, indexer, new_indexer \u001B[38;5;241m=\u001B[39m \u001B[38;5;28mself\u001B[39m\u001B[38;5;241m.\u001B[39m_reindex_non_unique(keyarr)\n\u001B[0;32m-> 6070\u001B[0m \u001B[38;5;28;43mself\u001B[39;49m\u001B[38;5;241;43m.\u001B[39;49m\u001B[43m_raise_if_missing\u001B[49m\u001B[43m(\u001B[49m\u001B[43mkeyarr\u001B[49m\u001B[43m,\u001B[49m\u001B[43m \u001B[49m\u001B[43mindexer\u001B[49m\u001B[43m,\u001B[49m\u001B[43m \u001B[49m\u001B[43maxis_name\u001B[49m\u001B[43m)\u001B[49m\n\u001B[1;32m   6072\u001B[0m keyarr \u001B[38;5;241m=\u001B[39m \u001B[38;5;28mself\u001B[39m\u001B[38;5;241m.\u001B[39mtake(indexer)\n\u001B[1;32m   6073\u001B[0m \u001B[38;5;28;01mif\u001B[39;00m \u001B[38;5;28misinstance\u001B[39m(key, Index):\n\u001B[1;32m   6074\u001B[0m     \u001B[38;5;66;03m# GH 42790 - Preserve name from an Index\u001B[39;00m\n",
      "File \u001B[0;32m~/anaconda3/envs/caa_project_venv/lib/python3.9/site-packages/pandas/core/indexes/base.py:6130\u001B[0m, in \u001B[0;36mIndex._raise_if_missing\u001B[0;34m(self, key, indexer, axis_name)\u001B[0m\n\u001B[1;32m   6128\u001B[0m     \u001B[38;5;28;01mif\u001B[39;00m use_interval_msg:\n\u001B[1;32m   6129\u001B[0m         key \u001B[38;5;241m=\u001B[39m \u001B[38;5;28mlist\u001B[39m(key)\n\u001B[0;32m-> 6130\u001B[0m     \u001B[38;5;28;01mraise\u001B[39;00m \u001B[38;5;167;01mKeyError\u001B[39;00m(\u001B[38;5;124mf\u001B[39m\u001B[38;5;124m\"\u001B[39m\u001B[38;5;124mNone of [\u001B[39m\u001B[38;5;132;01m{\u001B[39;00mkey\u001B[38;5;132;01m}\u001B[39;00m\u001B[38;5;124m] are in the [\u001B[39m\u001B[38;5;132;01m{\u001B[39;00maxis_name\u001B[38;5;132;01m}\u001B[39;00m\u001B[38;5;124m]\u001B[39m\u001B[38;5;124m\"\u001B[39m)\n\u001B[1;32m   6132\u001B[0m not_found \u001B[38;5;241m=\u001B[39m \u001B[38;5;28mlist\u001B[39m(ensure_index(key)[missing_mask\u001B[38;5;241m.\u001B[39mnonzero()[\u001B[38;5;241m0\u001B[39m]]\u001B[38;5;241m.\u001B[39munique())\n\u001B[1;32m   6133\u001B[0m \u001B[38;5;28;01mraise\u001B[39;00m \u001B[38;5;167;01mKeyError\u001B[39;00m(\u001B[38;5;124mf\u001B[39m\u001B[38;5;124m\"\u001B[39m\u001B[38;5;132;01m{\u001B[39;00mnot_found\u001B[38;5;132;01m}\u001B[39;00m\u001B[38;5;124m not in index\u001B[39m\u001B[38;5;124m\"\u001B[39m)\n",
      "\u001B[0;31mKeyError\u001B[0m: \"None of [Float64Index([0.9898490520130884, 0.9919625525399222,  0.993114934677092,\\n              0.9935248633443672, 0.9941574844891292, 0.9943631761647926,\\n              0.9945930472220108, 0.9948672979703962,  0.995050706040774,\\n              0.9951689591791576, 0.9953476186125936, 0.9954924790027666,\\n              0.9956020606696798, 0.9956445894356384, 0.9954499309915268,\\n               0.995573479492614,   0.99556327612047, 0.9955219539017732,\\n              0.9954461941067424, 0.9954728567035837, 0.9954319545698525,\\n              0.9954368704645064, 0.9953380489287796, 0.9953934689479323,\\n              0.9952463101034816, 0.9952622393628276, 0.9953420768102026,\\n              0.9953989538699316, 0.9953991377360056, 0.9954113917617268,\\n               0.995465274720416, 0.9954858196864536, 0.9954907815603808,\\n              0.9955000739796832, 0.9951791716580404, 0.9952346414434796,\\n              0.9952515787274884, 0.9952656609187118,  0.995262626617268,\\n               0.995106098047434, 0.9950968751894148,  0.994943751738398,\\n              0.9948459017295213, 0.9947333060858464, 0.9947372163800547,\\n              0.9947476762924649, 0.9946237410751216, 0.9946509510238932,\\n              0.9946136777393416, 0.9946157284082576,  0.994322666416388,\\n              0.9940741614362932, 0.9941452222267664, 0.9938761267466988,\\n              0.9938648605043224, 0.9938545693490776, 0.9937883000868496,\\n              0.9937908782218232, 0.9937957436538932, 0.9937720825760984,\\n               0.993742378091582, 0.9946303017459636, 0.9948083531604824,\\n              0.9947860497065306, 0.9947805837621404, 0.9955424762763716,\\n              0.9954883850214196, 0.9955295751531442, 0.9952377173517822,\\n              0.9952433053499656, 0.9952357078581976,  0.995191982439396,\\n              0.9951792830492248, 0.9951839751573645, 0.9951905258615538,\\n              0.9951615904024522, 0.9951581913254416, 0.9951325445850204,\\n              0.9950713290577532,  0.995114295399994, 0.9950969151332538,\\n              0.9951013953090704,  0.995139392387526, 0.9951512878657536,\\n               0.995230490985982, 0.9951982239852672, 0.9952170739254668,\\n               0.995226286516626,  0.995180089689624, 0.9951866018750544],\\n             dtype='float64')] are in the [columns]\""
     ]
    }
   ],
   "execution_count": 22
  },
  {
   "metadata": {},
   "cell_type": "code",
   "source": [
    "timeline['tx_per_block'] = timeline[\"tx_per_block\"].apply(float)\n",
    "create_timeline_plot(timeline, timeline['tx_per_block'])"
   ],
   "id": "d1de13d1d30ad1ff",
   "outputs": [],
   "execution_count": null
  },
  {
   "cell_type": "code",
   "source": [
    "# TODO: Create timeline for HH Index\n",
    "# TODO: Show tx frequency for all transfers (+ maybe: for top traders or cex's)"
   ],
   "metadata": {
    "collapsed": false
   },
   "id": "1d4abd4060e724f9",
   "outputs": [],
   "execution_count": null
  },
  {
   "cell_type": "markdown",
   "source": [
    "### Pie Chart\n",
    "Balances distribution pie chart:"
   ],
   "metadata": {
    "collapsed": false
   },
   "id": "74166c8edcfaeda2"
  },
  {
   "cell_type": "code",
   "source": [
    "# all addresses with positive balance\n",
    "create_pie_chart(\n",
    "    merge_others_at_cut_off_value(only_positive_df, 50), \n",
    "    \"../data/uniswap_pie_chart.png\")"
   ],
   "metadata": {
    "collapsed": false
   },
   "id": "92e7dbc8e5ee4280",
   "outputs": [],
   "execution_count": null
  },
  {
   "cell_type": "markdown",
   "source": [
    "The timelock address holds a huge amount of the tokens."
   ],
   "metadata": {
    "collapsed": false
   },
   "id": "98e4be4b80d0abcb"
  },
  {
   "cell_type": "code",
   "source": [
    "# all addresses with positive balance, except the timelock address\n",
    "create_pie_chart(\n",
    "    merge_others_at_cut_off_value(only_positive_df_removed_timelockAddress, 50), \n",
    "    \"../data/uniswap_pie_chart.png\")"
   ],
   "metadata": {
    "collapsed": false
   },
   "id": "4516f5af4361cd0c",
   "outputs": [],
   "execution_count": null
  },
  {
   "cell_type": "code",
   "source": [
    "a = \"0x0000000000000000000000003d30b1ab88d487b0f3061f40de76845bec3f1e94\"\n",
    "a = \"0x\" + a[-40:]\n",
    "print(a)"
   ],
   "metadata": {
    "collapsed": false
   },
   "id": "d93e51ac1c82053e",
   "outputs": [],
   "execution_count": null
  },
  {
   "cell_type": "code",
   "source": [],
   "metadata": {
    "collapsed": false
   },
   "id": "40f1aa3488840066",
   "outputs": [],
   "execution_count": null
  },
  {
   "cell_type": "code",
   "source": [
    "df_cex_not_None = only_positive_df_removed_timelockAddress[~pd.isnull(only_positive_df_removed_timelockAddress[\"cex\"])]\n",
    "df_cex_is_None = only_positive_df_removed_timelockAddress[pd.isnull(only_positive_df_removed_timelockAddress[\"cex\"])]\n",
    "\n",
    "print(\"Number of cex addresses: \", df_cex_not_None.shape[0])\n",
    "print(\"Number of other addresses: \", df_cex_is_None.shape[0])"
   ],
   "metadata": {
    "collapsed": false
   },
   "id": "3b6f3085d5cf9998",
   "outputs": [],
   "execution_count": null
  },
  {
   "cell_type": "code",
   "source": [
    "df_cex = aggregate_cex_balances(only_positive_df_removed_timelockAddress)\n",
    "print(df_cex.sort_values(\"balance\", ascending=False).head(5))\n",
    "\n",
    "create_pie_chart(df_cex, '../data/uniswap_pie_chart_cex.png', labels=df_cex['cex'])"
   ],
   "metadata": {
    "collapsed": false
   },
   "id": "1bb404ad546726a2",
   "outputs": [],
   "execution_count": null
  },
  {
   "cell_type": "code",
   "source": [],
   "metadata": {
    "collapsed": false
   },
   "id": "ee1403dfcfd21088",
   "outputs": [],
   "execution_count": null
  }
 ],
 "metadata": {
  "kernelspec": {
   "display_name": "Python 3",
   "language": "python",
   "name": "python3"
  },
  "language_info": {
   "codemirror_mode": {
    "name": "ipython",
    "version": 2
   },
   "file_extension": ".py",
   "mimetype": "text/x-python",
   "name": "python",
   "nbconvert_exporter": "python",
   "pygments_lexer": "ipython2",
   "version": "2.7.6"
  }
 },
 "nbformat": 4,
 "nbformat_minor": 5
}
